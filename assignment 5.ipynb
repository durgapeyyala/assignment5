{
 "cells": [
  {
   "cell_type": "code",
   "execution_count": 4,
   "id": "3897bee7",
   "metadata": {},
   "outputs": [],
   "source": [
    "#1. Define a function which will return Max of three numbers \n",
    "def max(a,b,c):\n",
    "    if a>b and a>c:\n",
    "        print(a,\"value is greater\")\n",
    "    elif b>a and b>c:\n",
    "        print(b,\"value is greater\")\n",
    "    else:\n",
    "        print(c,\"value is greater\")\n",
    "        \n",
    "\n"
   ]
  },
  {
   "cell_type": "code",
   "execution_count": 5,
   "id": "c75f2b12",
   "metadata": {},
   "outputs": [
    {
     "name": "stdout",
     "output_type": "stream",
     "text": [
      "7 value is greater\n"
     ]
    }
   ],
   "source": [
    "max(4,7,3)"
   ]
  },
  {
   "cell_type": "code",
   "execution_count": 8,
   "id": "1ae4be69",
   "metadata": {},
   "outputs": [],
   "source": [
    "#2. Define a Python Function to reverse a string.\n",
    "def rev(r):\n",
    "    reverse=r[::-1]\n",
    "    return reverse"
   ]
  },
  {
   "cell_type": "code",
   "execution_count": 10,
   "id": "0fb8f486",
   "metadata": {},
   "outputs": [
    {
     "data": {
      "text/plain": [
       "'iasagrud'"
      ]
     },
     "execution_count": 10,
     "metadata": {},
     "output_type": "execute_result"
    }
   ],
   "source": [
    "rev(\"durgasai\")"
   ]
  },
  {
   "cell_type": "code",
   "execution_count": 11,
   "id": "5a9ae195",
   "metadata": {},
   "outputs": [],
   "source": [
    "#3. Write a Python program to define a function that accepts 2 values and return its sum, subtraction and multiplication.\n",
    "def values(a,b):\n",
    "    return a+b,a-b,a*b\n",
    "    "
   ]
  },
  {
   "cell_type": "code",
   "execution_count": 12,
   "id": "37f5e108",
   "metadata": {},
   "outputs": [
    {
     "data": {
      "text/plain": [
       "(8, 2, 15)"
      ]
     },
     "execution_count": 12,
     "metadata": {},
     "output_type": "execute_result"
    }
   ],
   "source": [
    "values(5,3)"
   ]
  },
  {
   "cell_type": "code",
   "execution_count": 13,
   "id": "83751c8f",
   "metadata": {},
   "outputs": [],
   "source": [
    "def val(a,b):\n",
    "    print(\"sum of two numbers:{} subtraction of two numbers:{} multiplication of two numbers:{}\".format((a+b),(a-b),(a*b)))"
   ]
  },
  {
   "cell_type": "code",
   "execution_count": 14,
   "id": "b00b82ac",
   "metadata": {},
   "outputs": [
    {
     "name": "stdout",
     "output_type": "stream",
     "text": [
      "sum of two numbers:8 subtraction of two numbers:2 multiplication of two numbers:15\n"
     ]
    }
   ],
   "source": [
    "val(5,3)"
   ]
  },
  {
   "cell_type": "code",
   "execution_count": 15,
   "id": "bce19921",
   "metadata": {},
   "outputs": [],
   "source": [
    "#4. Define a function that accepts roll number and returns whether the student is present or absent. \n",
    "def student(r):\n",
    "    l=[1,2,3,4,5,6,7,8,9,10,11,12,13]\n",
    "    if r in l:\n",
    "        print(\"student was present\")\n",
    "    else:\n",
    "        print(\"student was absent\")"
   ]
  },
  {
   "cell_type": "code",
   "execution_count": 17,
   "id": "57390a51",
   "metadata": {},
   "outputs": [
    {
     "name": "stdout",
     "output_type": "stream",
     "text": [
      "student was present\n"
     ]
    }
   ],
   "source": [
    "student(11)"
   ]
  },
  {
   "cell_type": "code",
   "execution_count": 18,
   "id": "3098adf7",
   "metadata": {},
   "outputs": [],
   "source": [
    "def student(r):\n",
    "    l=[1,2,3,4,5,6,7,8,9,10,11,12,13]\n",
    "    if r in l:\n",
    "        print(\"student was present\")\n",
    "    else:\n",
    "        print(\"student was absent\")"
   ]
  },
  {
   "cell_type": "code",
   "execution_count": 19,
   "id": "aa5bb155",
   "metadata": {},
   "outputs": [
    {
     "name": "stdout",
     "output_type": "stream",
     "text": [
      "student was absent\n"
     ]
    }
   ],
   "source": [
    "student(21)"
   ]
  },
  {
   "cell_type": "code",
   "execution_count": 26,
   "id": "2be569f9",
   "metadata": {},
   "outputs": [],
   "source": [
    "#5. Define a function in python that accepts n values and returns the maximum of n numbers\n",
    "def max(*n):\n",
    "    big=0\n",
    "    for y in n:\n",
    "        if y>big:\n",
    "            bigval=y\n",
    "    return bigval\n",
    "        "
   ]
  },
  {
   "cell_type": "code",
   "execution_count": 27,
   "id": "68355659",
   "metadata": {},
   "outputs": [
    {
     "data": {
      "text/plain": [
       "100"
      ]
     },
     "execution_count": 27,
     "metadata": {},
     "output_type": "execute_result"
    }
   ],
   "source": [
    "max(1,2,3,4,6,7,22,33,66,99,100)"
   ]
  },
  {
   "cell_type": "code",
   "execution_count": 32,
   "id": "26f9f7d2",
   "metadata": {},
   "outputs": [],
   "source": [
    "#6. Define a function which counts vowels and consonant in a word. \n",
    "def alp(w):\n",
    "    vowels=[\"a\",\"e\",\"i\",\"o\",\"u\",\"A\",\"E\",\"I\",\"O\",\"U\"]\n",
    "    v=0\n",
    "    c=0\n",
    "    for y in w:\n",
    "        if y in vowels:\n",
    "            v=v+1\n",
    "        else:\n",
    "            c=c+1\n",
    "    print(\"total number of vowels present in the word is :{}\".format(v))\n",
    "    print(\"total number of consonants present in the word is :{}\".format(c))\n",
    "            \n",
    "            "
   ]
  },
  {
   "cell_type": "code",
   "execution_count": 35,
   "id": "09d99bc2",
   "metadata": {},
   "outputs": [
    {
     "name": "stdout",
     "output_type": "stream",
     "text": [
      "total number of vowels present in the word is :5\n",
      "total number of consonants present in the word is :21\n"
     ]
    }
   ],
   "source": [
    "alp(\"abcdefghijklmnopqrstuvwxyz\")"
   ]
  },
  {
   "cell_type": "code",
   "execution_count": 36,
   "id": "9635035f",
   "metadata": {},
   "outputs": [],
   "source": [
    "#7. Define a function that returns Factorial of a number\n",
    "def factorial(n):\n",
    "    c=1\n",
    "    for y in range(1,n+1):\n",
    "        c=c*y\n",
    "    return c\n",
    "        "
   ]
  },
  {
   "cell_type": "code",
   "execution_count": 37,
   "id": "8dde732c",
   "metadata": {},
   "outputs": [
    {
     "data": {
      "text/plain": [
       "120"
      ]
     },
     "execution_count": 37,
     "metadata": {},
     "output_type": "execute_result"
    }
   ],
   "source": [
    "factorial(5)"
   ]
  },
  {
   "cell_type": "code",
   "execution_count": 1,
   "id": "ff3abd3f",
   "metadata": {},
   "outputs": [],
   "source": [
    "#8. Define a function that accepts radius and returns the area of a circle.\n",
    "def area(r):\n",
    "    return 3.141*r**2\n"
   ]
  },
  {
   "cell_type": "code",
   "execution_count": 2,
   "id": "1c5a8880",
   "metadata": {},
   "outputs": [
    {
     "data": {
      "text/plain": [
       "78.525"
      ]
     },
     "execution_count": 2,
     "metadata": {},
     "output_type": "execute_result"
    }
   ],
   "source": [
    "area(5)"
   ]
  },
  {
   "cell_type": "code",
   "execution_count": 24,
   "id": "5fe2e2ca",
   "metadata": {},
   "outputs": [],
   "source": [
    "#(9) Define a function that takes a number as a parameter and check the number is prime or not.\n",
    "\n",
    "def prime(n):\n",
    "    count=0\n",
    "    for y in range(1,n+1):\n",
    "        if n%y==0:\n",
    "            count=count+1\n",
    "    if  count>2 or count==1:\n",
    "        print(n,\"is not a prime number\")\n",
    "    else:\n",
    "        print(\"{} is prime number\".format(n))\n",
    "\n"
   ]
  },
  {
   "cell_type": "code",
   "execution_count": 26,
   "id": "0f9e9aa0",
   "metadata": {},
   "outputs": [
    {
     "name": "stdout",
     "output_type": "stream",
     "text": [
      "1 is not a prime number\n"
     ]
    }
   ],
   "source": [
    "prime(1)"
   ]
  },
  {
   "cell_type": "code",
   "execution_count": 27,
   "id": "a7ddf731",
   "metadata": {},
   "outputs": [],
   "source": [
    "#10. Mary wants to run a 25-mile marathon. When she attempts to\n",
    "#sign up for the marathon, she notices the sign-up sheet doesn't\n",
    "#directly state the marathon's length. Instead, the marathon's length\n",
    "#is listed in small, different portions. Help Mary find out how long\n",
    "#the marathon actually is. So create a function that\n",
    "#** Return True if the marathon is 25 miles long, otherwise, return\n",
    "#False.\n",
    "#Examples :-\n",
    "#marathon_distance([1, 2, 3, 4]) ➞ False\n",
    "#marathon_distance([1, 9, 5, 8, 2]) ➞ True\n",
    "#marathon_distance([-6, 15, 4]) ➞ True\n",
    "#Notes Items in the list will always be integers\n",
    "#. Items in the list may be negative or positive, but since negative\n",
    "#distance isn't possible, find a way to convert negative integers into\n",
    "#positive integers.\n",
    "#Return False if the arguments are empty or not provided.\n",
    "def run(*m):\n",
    "    s=0\n",
    "    for i in m:\n",
    "        if i>0:\n",
    "            s=i+s\n",
    "        else:\n",
    "            i=i*(-1)\n",
    "            s=s+i\n",
    "    if s==25:\n",
    "        print(\"True\")\n",
    "    else:\n",
    "        print(\"False\")\n"
   ]
  },
  {
   "cell_type": "code",
   "execution_count": 28,
   "id": "c6d3cc18",
   "metadata": {},
   "outputs": [
    {
     "name": "stdout",
     "output_type": "stream",
     "text": [
      "False\n"
     ]
    }
   ],
   "source": [
    "run(0,21,3)"
   ]
  },
  {
   "cell_type": "code",
   "execution_count": 29,
   "id": "a195d58c",
   "metadata": {},
   "outputs": [
    {
     "data": {
      "text/plain": [
       "4"
      ]
     },
     "execution_count": 29,
     "metadata": {},
     "output_type": "execute_result"
    }
   ],
   "source": [
    "list1=[5,6,-7]\n",
    "sum(list1)"
   ]
  },
  {
   "cell_type": "code",
   "execution_count": 30,
   "id": "67998404",
   "metadata": {},
   "outputs": [],
   "source": [
    "#11. Create a function that takes a number and returns True if the number is automorphic, False if it isn't.\n",
    "#** number n is automorphic if n^2 ends in n.\n",
    "#Example: n=5, n^2=25\n",
    "#so 5 is an automorphic\n",
    "def auto(n):\n",
    "        c=n**2\n",
    "        b=str(c)\n",
    "        if int(b[-1])==n:\n",
    "            return True\n",
    "        else:\n",
    "            return False\n",
    "    \n",
    "        "
   ]
  },
  {
   "cell_type": "code",
   "execution_count": 31,
   "id": "66dc375e",
   "metadata": {},
   "outputs": [
    {
     "data": {
      "text/plain": [
       "True"
      ]
     },
     "execution_count": 31,
     "metadata": {},
     "output_type": "execute_result"
    }
   ],
   "source": [
    "auto(6)"
   ]
  },
  {
   "cell_type": "code",
   "execution_count": 32,
   "id": "c06a4107",
   "metadata": {},
   "outputs": [],
   "source": [
    "#12) Create a function, that will take given a, b, c, and do the following:\n",
    "#Add a to itself b times and Check if the result is divisible by c.\n",
    "#and return true if it is divisible by c or false\n",
    "#Example:\n",
    "#A=1\n",
    "#B=2\n",
    "#C=2\n",
    "#So output is True because 1+1=2 and 2/2=0 \n",
    "def fun1(a,b,c):\n",
    "    d=(a+a)\n",
    "    if c%d==0:\n",
    "        return True\n",
    "    else:\n",
    "        return False\n",
    "    "
   ]
  },
  {
   "cell_type": "code",
   "execution_count": 33,
   "id": "c685ba85",
   "metadata": {},
   "outputs": [
    {
     "data": {
      "text/plain": [
       "True"
      ]
     },
     "execution_count": 33,
     "metadata": {},
     "output_type": "execute_result"
    }
   ],
   "source": [
    "fun1(1,2,2)"
   ]
  },
  {
   "cell_type": "code",
   "execution_count": 34,
   "id": "51960ca0",
   "metadata": {},
   "outputs": [],
   "source": [
    "#13) Create a function that changes specific words into emoticons.\n",
    "#Given a sentence as a string, replace the words smile, grin, sad and mad\n",
    "#with their corresponding emoticons.\n",
    "#word emoticon\n",
    "#smile :D\n",
    "#grin :)\n",
    "#sad :(\n",
    "#mad :P\n",
    "#Examples:\n",
    "def name(a):\n",
    "    s=a.split()\n",
    "    dic={\"smile\":\":D\",\"grin\":\":)\",\"sad\":\":(\",\"mad\":\":P\"}\n",
    "    for items in s:\n",
    "        if items in dic.keys():\n",
    "            change=a.replace(items,dic[items])\n",
    "            print(change)\n"
   ]
  },
  {
   "cell_type": "code",
   "execution_count": 35,
   "id": "75756b4a",
   "metadata": {},
   "outputs": [
    {
     "name": "stdout",
     "output_type": "stream",
     "text": [
      ":P\n"
     ]
    }
   ],
   "source": [
    "name(\"mad\")"
   ]
  },
  {
   "cell_type": "code",
   "execution_count": 23,
   "id": "e9013ea2",
   "metadata": {},
   "outputs": [
    {
     "name": "stdout",
     "output_type": "stream",
     "text": [
      "square of list is:[1, 4, 9, 16, 25, 36, 49, 64, 81, 100]\n",
      "cube of list is:[1, 8, 27, 64, 125, 216, 343, 512, 729, 1000]\n"
     ]
    }
   ],
   "source": [
    "#14 Write a Python program to square and cube every number in a given list of integers using Lambda \n",
    "l=[1,2,3,4,5,6,7,8,9,10]\n",
    "s=map(lambda l:l**2,l)\n",
    "c=map(lambda l:l**3,l)\n",
    "print(\"square of list is:{}\".format(list(s)))\n",
    "print(\"cube of list is:{}\".format(list(c)))\n"
   ]
  },
  {
   "cell_type": "code",
   "execution_count": 36,
   "id": "8c37e94c",
   "metadata": {},
   "outputs": [],
   "source": [
    "#15)Write a Python program to check whether a given string is number or not using Lambda\n",
    "def num(x):\n",
    "    \n",
    "        if x.isdigit():\n",
    "            print(\"its number\")\n",
    "        else:\n",
    "            print(\"its not digit \")\n"
   ]
  },
  {
   "cell_type": "code",
   "execution_count": 37,
   "id": "3b673773",
   "metadata": {},
   "outputs": [
    {
     "name": "stdout",
     "output_type": "stream",
     "text": [
      "its number\n"
     ]
    }
   ],
   "source": [
    "num(\"12264\")"
   ]
  },
  {
   "cell_type": "code",
   "execution_count": 38,
   "id": "f955eb2f",
   "metadata": {},
   "outputs": [
    {
     "name": "stdout",
     "output_type": "stream",
     "text": [
      "its not digit \n"
     ]
    }
   ],
   "source": [
    "num(\"durga\")"
   ]
  },
  {
   "cell_type": "code",
   "execution_count": null,
   "id": "93e52722",
   "metadata": {},
   "outputs": [],
   "source": []
  }
 ],
 "metadata": {
  "kernelspec": {
   "display_name": "Python 3 (ipykernel)",
   "language": "python",
   "name": "python3"
  },
  "language_info": {
   "codemirror_mode": {
    "name": "ipython",
    "version": 3
   },
   "file_extension": ".py",
   "mimetype": "text/x-python",
   "name": "python",
   "nbconvert_exporter": "python",
   "pygments_lexer": "ipython3",
   "version": "3.9.13"
  }
 },
 "nbformat": 4,
 "nbformat_minor": 5
}
